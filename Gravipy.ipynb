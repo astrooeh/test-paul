{
 "cells": [
  {
   "cell_type": "markdown",
   "metadata": {},
   "source": [
    "# Introduction & Installation"
   ]
  },
  {
   "cell_type": "markdown",
   "metadata": {},
   "source": [
    "This notebook gives a short overview of the Pyhton package <i> gravipy </i>, a Tensor Calculus Package for General Relativity Calculations in Python. Apart from a regular Pyhton installation, the metapackage <i> sympy </i> is required, for <i> gravipy </i> to run. Both packages are easily installable by using the package-managment system <i> pip </i>. <br>\n",
    "\n",
    "After installation, start an Ipython notebook (or use Ipython in spyder) and import the <i> gravipy </i> package. For better visualisation of the output a pretty printing option is added: "
   ]
  },
  {
   "cell_type": "code",
   "execution_count": 1,
   "metadata": {},
   "outputs": [],
   "source": [
    "from gravipy import *\n",
    "init_printing()"
   ]
  },
  {
   "cell_type": "markdown",
   "metadata": {},
   "source": [
    "# Define a Metric Tensor"
   ]
  },
  {
   "cell_type": "markdown",
   "metadata": {},
   "source": [
    "As a first step, we need to definde a metric tensor g and a corresponding coordinate system resp. four-vector x. Here we take the simplest solution of EInstein's field equations, the Schwarzschild solution. The definition is taken from the documentation included in the gravipy installation, available <a href=\"https://pypi.org/project/GraviPy/\">here</a>"
   ]
  },
  {
   "cell_type": "code",
   "execution_count": 2,
   "metadata": {},
   "outputs": [],
   "source": [
    "t, r, theta, phi, M = symbols('t, r, \\\\theta, \\phi, M') # define some symbolic variables\n",
    "x = Coordinates('\\chi', [t, r, theta, phi]) # create a four-vector of coordinates object instantiating the Coordinates class\n",
    "Metric = diag(-(1-2*M/r), 1/(1-2*M/r), r**2, r**2*sin(theta)**2) # define a matrix of a metric tensor components  \n",
    "g = MetricTensor('g', x, Metric) # create a metric tensor object instantiating the MetricTensor class"
   ]
  },
  {
   "cell_type": "markdown",
   "metadata": {},
   "source": [
    "After the definition, one could check the structure of the metric tensor g, in both forms, covariant (with positive sign) and contravariant (with negative sign)."
   ]
  },
  {
   "cell_type": "code",
   "execution_count": 3,
   "metadata": {},
   "outputs": [
    {
     "data": {
      "image/png": "[encoded data removed]",
      "text/latex": [
       "$$\\left[\\begin{matrix}\\frac{2 M}{r} - 1 & 0 & 0 & 0\\\\0 & \\frac{1}{- \\frac{2 M}{r} + 1} & 0 & 0\\\\0 & 0 & r^{2} & 0\\\\0 & 0 & 0 & r^{2} \\sin^{2}{\\left (\\theta \\right )}\\end{matrix}\\right]$$"
      ],
      "text/plain": [
       "⎡2⋅M                                    ⎤\n",
       "⎢─── - 1      0      0          0       ⎥\n",
       "⎢ r                                     ⎥\n",
       "⎢                                       ⎥\n",
       "⎢             1                         ⎥\n",
       "⎢   0     ─────────  0          0       ⎥\n",
       "⎢           2⋅M                         ⎥\n",
       "⎢         - ─── + 1                     ⎥\n",
       "⎢            r                          ⎥\n",
       "⎢                                       ⎥\n",
       "⎢                     2                 ⎥\n",
       "⎢   0         0      r          0       ⎥\n",
       "⎢                                       ⎥\n",
       "⎢                         2    2        ⎥\n",
       "⎣   0         0      0   r ⋅sin (\\theta)⎦"
      ]
     },
     "execution_count": 3,
     "metadata": {},
     "output_type": "execute_result"
    }
   ],
   "source": [
    "g(All,All) #Covariant metric Tensor (Schwarzschild Solution)"
   ]
  },
  {
   "cell_type": "code",
   "execution_count": 4,
   "metadata": {},
   "outputs": [
    {
     "data": {
      "image/png": "[encoded data removed]",
      "text/latex": [
       "$$\\left[\\begin{matrix}\\frac{1}{\\frac{2 M}{r} - 1} & 0 & 0 & 0\\\\0 & - \\frac{2 M}{r} + 1 & 0 & 0\\\\0 & 0 & \\frac{1}{r^{2}} & 0\\\\0 & 0 & 0 & \\frac{1}{r^{2} \\sin^{2}{\\left (\\theta \\right )}}\\end{matrix}\\right]$$"
      ],
      "text/plain": [
       "⎡   1                                   ⎤\n",
       "⎢───────      0      0          0       ⎥\n",
       "⎢2⋅M                                    ⎥\n",
       "⎢─── - 1                                ⎥\n",
       "⎢ r                                     ⎥\n",
       "⎢                                       ⎥\n",
       "⎢           2⋅M                         ⎥\n",
       "⎢   0     - ─── + 1  0          0       ⎥\n",
       "⎢            r                          ⎥\n",
       "⎢                                       ⎥\n",
       "⎢                    1                  ⎥\n",
       "⎢   0         0      ──         0       ⎥\n",
       "⎢                     2                 ⎥\n",
       "⎢                    r                  ⎥\n",
       "⎢                                       ⎥\n",
       "⎢                               1       ⎥\n",
       "⎢   0         0      0   ───────────────⎥\n",
       "⎢                         2    2        ⎥\n",
       "⎣                        r ⋅sin (\\theta)⎦"
      ]
     },
     "execution_count": 4,
     "metadata": {},
     "output_type": "execute_result"
    }
   ],
   "source": [
    "g(-All,-All) #Contravariant metric Tensor (Schwarzschild Solution)"
   ]
  },
  {
   "cell_type": "markdown",
   "metadata": {},
   "source": [
    "# Calculating the Riemann Tensor"
   ]
  },
  {
   "cell_type": "markdown",
   "metadata": {},
   "source": [
    "Having now computed the metric tensor (with all non diagonal components being 0 in this metric), we can now calculate the Christoeffl-Symbols (mostly refered to as Gamma), using the subclass <i> Christoffel </i> of the gravipy Tensor Class."
   ]
  },
  {
   "cell_type": "code",
   "execution_count": 5,
   "metadata": {},
   "outputs": [],
   "source": [
    "Ga = Christoffel('Ga', g)"
   ]
  },
  {
   "cell_type": "markdown",
   "metadata": {},
   "source": [
    "Christoffel symbols itself are covariant derivatives of the metric tensor, but they are not tensors themselves. However, they are an important step towards the determination of the Riemann Tensor. Gravipy can output the various components of the Christoffel object, for example:"
   ]
  },
  {
   "cell_type": "code",
   "execution_count": 6,
   "metadata": {},
   "outputs": [
    {
     "data": {
      "image/png": "[encoded data removed]",
      "text/latex": [
       "$$- \\frac{M}{\\left(2 M - r\\right)^{2}}$$"
      ],
      "text/plain": [
       "   -M     \n",
       "──────────\n",
       "         2\n",
       "(2⋅M - r) "
      ]
     },
     "execution_count": 6,
     "metadata": {},
     "output_type": "execute_result"
    }
   ],
   "source": [
    "Ga(2,2,2)"
   ]
  },
  {
   "cell_type": "markdown",
   "metadata": {},
   "source": [
    "The Riemann Tensor is finally constructed by yet another derivation of the Christoffel symbols, and can be calculated easily by"
   ]
  },
  {
   "cell_type": "code",
   "execution_count": 7,
   "metadata": {},
   "outputs": [],
   "source": [
    "Rm = Riemann('Rm', g)"
   ]
  },
  {
   "cell_type": "markdown",
   "metadata": {},
   "source": [
    "The Riemann Tensor is a tensor of 4th order (basically a matrix buid of matrices), where all componets look as following"
   ]
  },
  {
   "cell_type": "code",
   "execution_count": 8,
   "metadata": {},
   "outputs": [
    {
     "data": {
      "image/png": "[encoded data removed]",
      "text/latex": [
       "$$\\left[\\begin{matrix}\\left[\\begin{matrix}0 & 0 & 0 & 0\\\\0 & 0 & 0 & 0\\\\0 & 0 & 0 & 0\\\\0 & 0 & 0 & 0\\end{matrix}\\right] & \\left[\\begin{matrix}0 & - \\frac{2 M}{r^{3}} & 0 & 0\\\\\\frac{2 M}{r^{3}} & 0 & 0 & 0\\\\0 & 0 & 0 & 0\\\\0 & 0 & 0 & 0\\end{matrix}\\right] & \\left[\\begin{matrix}0 & 0 & \\frac{M \\left(- 2 M + r\\right)}{r^{2}} & 0\\\\0 & 0 & 0 & 0\\\\- \\frac{M \\left(- 2 M + r\\right)}{r^{2}} & 0 & 0 & 0\\\\0 & 0 & 0 & 0\\end{matrix}\\right] & \\left[\\begin{matrix}0 & 0 & 0 & \\frac{M \\left(- 2 M + r\\right) \\sin^{2}{\\left (\\theta \\right )}}{r^{2}}\\\\0 & 0 & 0 & 0\\\\0 & 0 & 0 & 0\\\\- \\frac{M \\left(- 2 M + r\\right) \\sin^{2}{\\left (\\theta \\right )}}{r^{2}} & 0 & 0 & 0\\end{matrix}\\right]\\\\\\left[\\begin{matrix}0 & \\frac{2 M}{r^{3}} & 0 & 0\\\\- \\frac{2 M}{r^{3}} & 0 & 0 & 0\\\\0 & 0 & 0 & 0\\\\0 & 0 & 0 & 0\\end{matrix}\\right] & \\left[\\begin{matrix}0 & 0 & 0 & 0\\\\0 & 0 & 0 & 0\\\\0 & 0 & 0 & 0\\\\0 & 0 & 0 & 0\\end{matrix}\\right] & \\left[\\begin{matrix}0 & 0 & 0 & 0\\\\0 & 0 & \\frac{M}{2 M - r} & 0\\\\0 & - \\frac{M}{2 M - r} & 0 & 0\\\\0 & 0 & 0 & 0\\end{matrix}\\right] & \\left[\\begin{matrix}0 & 0 & 0 & 0\\\\0 & 0 & 0 & \\frac{M \\sin^{2}{\\left (\\theta \\right )}}{2 M - r}\\\\0 & 0 & 0 & 0\\\\0 & - \\frac{M \\sin^{2}{\\left (\\theta \\right )}}{2 M - r} & 0 & 0\\end{matrix}\\right]\\\\\\left[\\begin{matrix}0 & 0 & - \\frac{M \\left(- 2 M + r\\right)}{r^{2}} & 0\\\\0 & 0 & 0 & 0\\\\\\frac{M \\left(- 2 M + r\\right)}{r^{2}} & 0 & 0 & 0\\\\0 & 0 & 0 & 0\\end{matrix}\\right] & \\left[\\begin{matrix}0 & 0 & 0 & 0\\\\0 & 0 & - \\frac{M}{2 M - r} & 0\\\\0 & \\frac{M}{2 M - r} & 0 & 0\\\\0 & 0 & 0 & 0\\end{matrix}\\right] & \\left[\\begin{matrix}0 & 0 & 0 & 0\\\\0 & 0 & 0 & 0\\\\0 & 0 & 0 & 0\\\\0 & 0 & 0 & 0\\end{matrix}\\right] & \\left[\\begin{matrix}0 & 0 & 0 & 0\\\\0 & 0 & 0 & 0\\\\0 & 0 & 0 & 2 M r \\sin^{2}{\\left (\\theta \\right )}\\\\0 & 0 & - 2 M r \\sin^{2}{\\left (\\theta \\right )} & 0\\end{matrix}\\right]\\\\\\left[\\begin{matrix}0 & 0 & 0 & - \\frac{M \\left(- 2 M + r\\right) \\sin^{2}{\\left (\\theta \\right )}}{r^{2}}\\\\0 & 0 & 0 & 0\\\\0 & 0 & 0 & 0\\\\\\frac{M \\left(- 2 M + r\\right) \\sin^{2}{\\left (\\theta \\right )}}{r^{2}} & 0 & 0 & 0\\end{matrix}\\right] & \\left[\\begin{matrix}0 & 0 & 0 & 0\\\\0 & 0 & 0 & - \\frac{M \\sin^{2}{\\left (\\theta \\right )}}{2 M - r}\\\\0 & 0 & 0 & 0\\\\0 & \\frac{M \\sin^{2}{\\left (\\theta \\right )}}{2 M - r} & 0 & 0\\end{matrix}\\right] & \\left[\\begin{matrix}0 & 0 & 0 & 0\\\\0 & 0 & 0 & 0\\\\0 & 0 & 0 & - 2 M r \\sin^{2}{\\left (\\theta \\right )}\\\\0 & 0 & 2 M r \\sin^{2}{\\left (\\theta \\right )} & 0\\end{matrix}\\right] & \\left[\\begin{matrix}0 & 0 & 0 & 0\\\\0 & 0 & 0 & 0\\\\0 & 0 & 0 & 0\\\\0 & 0 & 0 & 0\\end{matrix}\\right]\\end{matrix}\\right]$$"
      ],
      "text/plain": [
       "⎡                                                                             \n",
       "⎢                                                                           ⎡ \n",
       "⎢                                                                           ⎢ \n",
       "⎢                                                                           ⎢ \n",
       "⎢                         ⎡0  0  0  0⎤                                      ⎢ \n",
       "⎢                         ⎢          ⎥                                      ⎢ \n",
       "⎢                         ⎢0  0  0  0⎥                                      ⎢2\n",
       "⎢                         ⎢          ⎥                                      ⎢─\n",
       "⎢                         ⎢0  0  0  0⎥                                      ⎢ \n",
       "⎢                         ⎢          ⎥                                      ⎢ \n",
       "⎢                         ⎣0  0  0  0⎦                                      ⎢ \n",
       "⎢                                                                           ⎢ \n",
       "⎢                                                                           ⎢ \n",
       "⎢                                                                           ⎣ \n",
       "⎢                                                                             \n",
       "⎢                                                                             \n",
       "⎢                      ⎡       2⋅M      ⎤                                     \n",
       "⎢                      ⎢  0    ───  0  0⎥                                     \n",
       "⎢                      ⎢         3      ⎥                                     \n",
       "⎢                      ⎢        r       ⎥                                     \n",
       "⎢                      ⎢                ⎥                                     \n",
       "⎢                      ⎢-2⋅M            ⎥                                     \n",
       "⎢                      ⎢─────   0   0  0⎥                                     \n",
       "⎢                      ⎢   3            ⎥                                     \n",
       "⎢                      ⎢  r             ⎥                                     \n",
       "⎢                      ⎢                ⎥                                     \n",
       "⎢                      ⎢  0     0   0  0⎥                                     \n",
       "⎢                      ⎢                ⎥                                     \n",
       "⎢                      ⎣  0     0   0  0⎦                                     \n",
       "⎢                                                                             \n",
       "⎢             ⎡                 -M⋅(-2⋅M + r)    ⎤                            \n",
       "⎢             ⎢     0        0  ──────────────  0⎥                       ⎡0   \n",
       "⎢             ⎢                        2         ⎥                       ⎢    \n",
       "⎢             ⎢                       r          ⎥                       ⎢    \n",
       "⎢             ⎢                                  ⎥                       ⎢0   \n",
       "⎢             ⎢     0        0        0         0⎥                       ⎢    \n",
       "⎢             ⎢                                  ⎥                       ⎢    \n",
       "⎢             ⎢M⋅(-2⋅M + r)                      ⎥                       ⎢    \n",
       "⎢             ⎢────────────  0        0         0⎥                       ⎢0  ─\n",
       "⎢             ⎢      2                           ⎥                       ⎢   2\n",
       "⎢             ⎢     r                            ⎥                       ⎢    \n",
       "⎢             ⎢                                  ⎥                       ⎣0   \n",
       "⎢             ⎣     0        0        0         0⎦                            \n",
       "⎢                                                                             \n",
       "⎢⎡                                                  2         ⎤               \n",
       "⎢⎢                                 -M⋅(-2⋅M + r)⋅sin (\\theta) ⎥  ⎡0        0  \n",
       "⎢⎢            0              0  0  ───────────────────────────⎥  ⎢            \n",
       "⎢⎢                                               2            ⎥  ⎢            \n",
       "⎢⎢                                              r             ⎥  ⎢            \n",
       "⎢⎢                                                            ⎥  ⎢0        0  \n",
       "⎢⎢            0              0  0               0             ⎥  ⎢            \n",
       "⎢⎢                                                            ⎥  ⎢            \n",
       "⎢⎢            0              0  0               0             ⎥  ⎢0        0  \n",
       "⎢⎢                                                            ⎥  ⎢            \n",
       "⎢⎢                2                                           ⎥  ⎢        2   \n",
       "⎢⎢M⋅(-2⋅M + r)⋅sin (\\theta)                                   ⎥  ⎢   M⋅sin (\\t\n",
       "⎢⎢─────────────────────────  0  0               0             ⎥  ⎢0  ─────────\n",
       "⎢⎢             2                                              ⎥  ⎣      2⋅M - \n",
       "⎣⎣            r                                               ⎦               \n",
       "\n",
       "                                                                              \n",
       "    -2⋅M       ⎤                  ⎡                   M⋅(-2⋅M + r)   ⎤        \n",
       "0   ─────  0  0⎥                  ⎢      0         0  ────────────  0⎥        \n",
       "       3       ⎥                  ⎢                         2        ⎥        \n",
       "      r        ⎥                  ⎢                        r         ⎥        \n",
       "               ⎥                  ⎢                                  ⎥        \n",
       "⋅M             ⎥                  ⎢      0         0       0        0⎥        \n",
       "──    0    0  0⎥                  ⎢                                  ⎥        \n",
       " 3             ⎥                  ⎢-M⋅(-2⋅M + r)                     ⎥        \n",
       "r              ⎥                  ⎢──────────────  0       0        0⎥        \n",
       "               ⎥                  ⎢       2                          ⎥        \n",
       "0     0    0  0⎥                  ⎢      r                           ⎥        \n",
       "               ⎥                  ⎢                                  ⎥        \n",
       "0     0    0  0⎦                  ⎣      0         0       0        0⎦        \n",
       "                                                                              \n",
       "                                                                              \n",
       "                                                                              \n",
       "                                        ⎡0     0        0     0⎤              \n",
       "                                        ⎢                      ⎥              \n",
       " ⎡0  0  0  0⎤                           ⎢               M      ⎥              \n",
       " ⎢          ⎥                           ⎢0     0     ───────  0⎥              \n",
       " ⎢0  0  0  0⎥                           ⎢            2⋅M - r   ⎥              \n",
       " ⎢          ⎥                           ⎢                      ⎥              \n",
       " ⎢0  0  0  0⎥                           ⎢     -M               ⎥              \n",
       " ⎢          ⎥                           ⎢0  ───────     0     0⎥              \n",
       " ⎣0  0  0  0⎦                           ⎢   2⋅M - r            ⎥              \n",
       "                                        ⎢                      ⎥              \n",
       "                                        ⎣0     0        0     0⎦              \n",
       "                                                                              \n",
       "                                                                              \n",
       "                                                                              \n",
       "  0        0     0⎤                                                           \n",
       "                  ⎥                                                           \n",
       "          -M      ⎥                           ⎡0  0  0  0⎤                    \n",
       "  0     ───────  0⎥                           ⎢          ⎥                    \n",
       "        2⋅M - r   ⎥                           ⎢0  0  0  0⎥                    \n",
       "                  ⎥                           ⎢          ⎥                    \n",
       "  M               ⎥                           ⎢0  0  0  0⎥                    \n",
       "──────     0     0⎥                           ⎢          ⎥                    \n",
       "⋅M - r            ⎥                           ⎣0  0  0  0⎦                    \n",
       "                  ⎥                                                           \n",
       "  0        0     0⎦                                                           \n",
       "                                                                              \n",
       "                                                                              \n",
       "                                                                              \n",
       "       0         0        ⎤                                                   \n",
       "                          ⎥                                                   \n",
       "                2         ⎥  ⎡0  0          0                    0         ⎤  \n",
       "          -M⋅sin (\\theta) ⎥  ⎢                                             ⎥  \n",
       "       0  ────────────────⎥  ⎢0  0          0                    0         ⎥  \n",
       "              2⋅M - r     ⎥  ⎢                                             ⎥  \n",
       "                          ⎥  ⎢                                    2        ⎥  \n",
       "       0         0        ⎥  ⎢0  0          0           -2⋅M⋅r⋅sin (\\theta)⎥  \n",
       "                          ⎥  ⎢                                             ⎥  \n",
       "                          ⎥  ⎢               2                             ⎥  \n",
       "heta)                     ⎥  ⎣0  0  2⋅M⋅r⋅sin (\\theta)           0         ⎦  \n",
       "─────  0         0        ⎥                                                   \n",
       "r                         ⎦                                                   \n",
       "                                                                              \n",
       "\n",
       "⎡                                                   2        ⎤⎤\n",
       "⎢                                   M⋅(-2⋅M + r)⋅sin (\\theta)⎥⎥\n",
       "⎢             0               0  0  ─────────────────────────⎥⎥\n",
       "⎢                                                2           ⎥⎥\n",
       "⎢                                               r            ⎥⎥\n",
       "⎢                                                            ⎥⎥\n",
       "⎢             0               0  0              0            ⎥⎥\n",
       "⎢                                                            ⎥⎥\n",
       "⎢             0               0  0              0            ⎥⎥\n",
       "⎢                                                            ⎥⎥\n",
       "⎢                 2                                          ⎥⎥\n",
       "⎢-M⋅(-2⋅M + r)⋅sin (\\theta)                                  ⎥⎥\n",
       "⎢───────────────────────────  0  0              0            ⎥⎥\n",
       "⎢              2                                             ⎥⎥\n",
       "⎣             r                                              ⎦⎥\n",
       "                                                              ⎥\n",
       "           ⎡0         0          0        0       ⎤           ⎥\n",
       "           ⎢                                      ⎥           ⎥\n",
       "           ⎢                             2        ⎥           ⎥\n",
       "           ⎢                        M⋅sin (\\theta)⎥           ⎥\n",
       "           ⎢0         0          0  ──────────────⎥           ⎥\n",
       "           ⎢                           2⋅M - r    ⎥           ⎥\n",
       "           ⎢                                      ⎥           ⎥\n",
       "           ⎢0         0          0        0       ⎥           ⎥\n",
       "           ⎢                                      ⎥           ⎥\n",
       "           ⎢         2                            ⎥           ⎥\n",
       "           ⎢   -M⋅sin (\\theta)                    ⎥           ⎥\n",
       "           ⎢0  ────────────────  0        0       ⎥           ⎥\n",
       "           ⎣       2⋅M - r                        ⎦           ⎥\n",
       "                                                              ⎥\n",
       "                                                              ⎥\n",
       "                                                              ⎥\n",
       "       ⎡0  0           0                   0         ⎤        ⎥\n",
       "       ⎢                                             ⎥        ⎥\n",
       "       ⎢0  0           0                   0         ⎥        ⎥\n",
       "       ⎢                                             ⎥        ⎥\n",
       "       ⎢                                    2        ⎥        ⎥\n",
       "       ⎢0  0           0           2⋅M⋅r⋅sin (\\theta)⎥        ⎥\n",
       "       ⎢                                             ⎥        ⎥\n",
       "       ⎢                2                            ⎥        ⎥\n",
       "       ⎣0  0  -2⋅M⋅r⋅sin (\\theta)          0         ⎦        ⎥\n",
       "                                                              ⎥\n",
       "                                                              ⎥\n",
       "                                                              ⎥\n",
       "                                                              ⎥\n",
       "                                                              ⎥\n",
       "                                                              ⎥\n",
       "                                                              ⎥\n",
       "                         ⎡0  0  0  0⎤                         ⎥\n",
       "                         ⎢          ⎥                         ⎥\n",
       "                         ⎢0  0  0  0⎥                         ⎥\n",
       "                         ⎢          ⎥                         ⎥\n",
       "                         ⎢0  0  0  0⎥                         ⎥\n",
       "                         ⎢          ⎥                         ⎥\n",
       "                         ⎣0  0  0  0⎦                         ⎥\n",
       "                                                              ⎥\n",
       "                                                              ⎥\n",
       "                                                              ⎥\n",
       "                                                              ⎦"
      ]
     },
     "execution_count": 8,
     "metadata": {},
     "output_type": "execute_result"
    }
   ],
   "source": [
    "Rm(All, All, All, All)"
   ]
  },
  {
   "cell_type": "code",
   "execution_count": 9,
   "metadata": {},
   "outputs": [
    {
     "data": {
      "image/png": "[encoded data removed]",
      "text/latex": [
       "$$\\frac{M}{2 M - r}$$"
      ],
      "text/plain": [
       "   M   \n",
       "───────\n",
       "2⋅M - r"
      ]
     },
     "execution_count": 9,
     "metadata": {},
     "output_type": "execute_result"
    }
   ],
   "source": [
    "Rm(2,3,2,3)"
   ]
  },
  {
   "cell_type": "markdown",
   "metadata": {},
   "source": [
    "# No Mass, no Curvature"
   ]
  },
  {
   "cell_type": "markdown",
   "metadata": {},
   "source": [
    "Most elements in this Riemann Tensor are zeroes. In an tensor contraction you can calculate the Einstein Tensor (product of Ricci Tensor and scalar), which are both 0 in our case."
   ]
  },
  {
   "cell_type": "code",
   "execution_count": 10,
   "metadata": {},
   "outputs": [
    {
     "data": {
      "image/png": "[encoded data removed]",
      "text/latex": [
       "$$0$$"
      ],
      "text/plain": [
       "0"
      ]
     },
     "execution_count": 10,
     "metadata": {},
     "output_type": "execute_result"
    }
   ],
   "source": [
    "Ri = Ricci('Ri', g)\n",
    "Ri.scalar()"
   ]
  },
  {
   "cell_type": "markdown",
   "metadata": {},
   "source": [
    "Hence the Einstein Tensor is 0 in all components as well. This is the vacuum solution (in the abcence of all matter) of Einstein's Equations: a completlely flat space-time!"
   ]
  },
  {
   "cell_type": "code",
   "execution_count": 11,
   "metadata": {},
   "outputs": [
    {
     "data": {
      "image/png": "[encoded data removed]",
      "text/latex": [
       "$$\\left[\\begin{matrix}0 & 0 & 0 & 0\\\\0 & 0 & 0 & 0\\\\0 & 0 & 0 & 0\\\\0 & 0 & 0 & 0\\end{matrix}\\right]$$"
      ],
      "text/plain": [
       "⎡0  0  0  0⎤\n",
       "⎢          ⎥\n",
       "⎢0  0  0  0⎥\n",
       "⎢          ⎥\n",
       "⎢0  0  0  0⎥\n",
       "⎢          ⎥\n",
       "⎣0  0  0  0⎦"
      ]
     },
     "metadata": {},
     "output_type": "display_data"
    }
   ],
   "source": [
    "G = Einstein('G', Ri)\n",
    "display(G(All,All))"
   ]
  },
  {
   "cell_type": "markdown",
   "metadata": {},
   "source": [
    "We have a completley flat space time! Below you can see the simplest form of Einstein's Field Equation(s), with the Einstein Tensor <i> G </i> on the left-hand side, and the stress-energy-momentum tensor <i> T </i> on the right-hand side. When there is pure vacuum with no energy (or mass) inside it, <i> T </i> is 0 ans so G hs to be 0 as well."
   ]
  },
  {
   "cell_type": "markdown",
   "metadata": {},
   "source": [
    "![alt text](https://s0.wp.com/latex.php?latex=%5Cboxed%7BG_%7B%5Cmu%5Cnu%7D%3D%5Cdfrac%7B8%5Cpi+G%7D%7Bc%5E4%7DT_%7B%5Cmu%5Cnu%7D%7D&bg=f9f7e1&fg=000000&s=0&zoom=2 \"Final_Einstein_Equations\")"
   ]
  },
  {
   "cell_type": "markdown",
   "metadata": {},
   "source": [
    "# Geodesics"
   ]
  },
  {
   "cell_type": "markdown",
   "metadata": {},
   "source": [
    "Apart from tensors, <i> gravipy </i> can also calculate geodesics, the generalization of a straihgt line (shortest distance in 4-dimensional spacetime) in general relativity. All geodesics are parameterized by $\\tau$, the world line parameter."
   ]
  },
  {
   "cell_type": "code",
   "execution_count": 13,
   "metadata": {},
   "outputs": [
    {
     "data": {
      "image/png": "[encoded data removed]",
      "text/latex": [
       "$$\\left[\\begin{matrix}- \\frac{2 M \\frac{d}{d \\tau} r{\\left (\\tau \\right )} \\frac{d}{d \\tau} t{\\left (\\tau \\right )}}{r^{2}{\\left (\\tau \\right )}} + \\left(\\frac{2 M}{r{\\left (\\tau \\right )}} - 1\\right) \\frac{d^{2}}{d \\tau^{2}} t{\\left (\\tau \\right )}\\\\\\frac{M \\left(\\frac{d}{d \\tau} t{\\left (\\tau \\right )}\\right)^{2}}{r^{2}{\\left (\\tau \\right )}} - \\frac{M \\left(\\frac{d}{d \\tau} r{\\left (\\tau \\right )}\\right)^{2}}{\\left(- \\frac{2 M}{r{\\left (\\tau \\right )}} + 1\\right)^{2} r^{2}{\\left (\\tau \\right )}} - r{\\left (\\tau \\right )} \\sin^{2}{\\left (\\theta{\\left (\\tau \\right )} \\right )} \\left(\\frac{d}{d \\tau} \\phi{\\left (\\tau \\right )}\\right)^{2} - r{\\left (\\tau \\right )} \\left(\\frac{d}{d \\tau} \\theta{\\left (\\tau \\right )}\\right)^{2} + \\frac{\\frac{d^{2}}{d \\tau^{2}} r{\\left (\\tau \\right )}}{- \\frac{2 M}{r{\\left (\\tau \\right )}} + 1}\\\\- r^{2}{\\left (\\tau \\right )} \\sin{\\left (\\theta{\\left (\\tau \\right )} \\right )} \\cos{\\left (\\theta{\\left (\\tau \\right )} \\right )} \\left(\\frac{d}{d \\tau} \\phi{\\left (\\tau \\right )}\\right)^{2} + r^{2}{\\left (\\tau \\right )} \\frac{d^{2}}{d \\tau^{2}} \\theta{\\left (\\tau \\right )} + 2 r{\\left (\\tau \\right )} \\frac{d}{d \\tau} \\theta{\\left (\\tau \\right )} \\frac{d}{d \\tau} r{\\left (\\tau \\right )}\\\\r^{2}{\\left (\\tau \\right )} \\sin^{2}{\\left (\\theta{\\left (\\tau \\right )} \\right )} \\frac{d^{2}}{d \\tau^{2}} \\phi{\\left (\\tau \\right )} + 2 r^{2}{\\left (\\tau \\right )} \\sin{\\left (\\theta{\\left (\\tau \\right )} \\right )} \\cos{\\left (\\theta{\\left (\\tau \\right )} \\right )} \\frac{d}{d \\tau} \\phi{\\left (\\tau \\right )} \\frac{d}{d \\tau} \\theta{\\left (\\tau \\right )} + 2 r{\\left (\\tau \\right )} \\sin^{2}{\\left (\\theta{\\left (\\tau \\right )} \\right )} \\frac{d}{d \\tau} \\phi{\\left (\\tau \\right )} \\frac{d}{d \\tau} r{\\left (\\tau \\right )}\\end{matrix}\\right]$$"
      ],
      "text/plain": [
       "⎡                                                                         d   \n",
       "⎢                                                                   2⋅M⋅─────(\n",
       "⎢                                                                       d\\tau \n",
       "⎢                                                                 - ──────────\n",
       "⎢                                                                             \n",
       "⎢                                                                             \n",
       "⎢                                                                             \n",
       "⎢                                                                             \n",
       "⎢                                          2                        2         \n",
       "⎢                          ⎛  d           ⎞         ⎛  d           ⎞          \n",
       "⎢                        M⋅⎜─────(t(\\tau))⎟       M⋅⎜─────(r(\\tau))⎟          \n",
       "⎢                          ⎝d\\tau         ⎠         ⎝d\\tau         ⎠          \n",
       "⎢                        ─────────────────── - ───────────────────────── - r(\\\n",
       "⎢                               2                             2               \n",
       "⎢                              r (\\tau)        ⎛    2⋅M      ⎞   2            \n",
       "⎢                                              ⎜- ─────── + 1⎟ ⋅r (\\tau)      \n",
       "⎢                                              ⎝  r(\\tau)    ⎠                \n",
       "⎢                                                                             \n",
       "⎢                                                                             \n",
       "⎢                            2                                           ⎛  d \n",
       "⎢                         - r (\\tau)⋅sin(\\theta(\\tau))⋅cos(\\theta(\\tau))⋅⎜────\n",
       "⎢                                                                        ⎝d\\ta\n",
       "⎢                                                                             \n",
       "⎢                                                                             \n",
       "⎢                               2                                             \n",
       "⎢ 2          2                 d                     2                        \n",
       "⎢r (\\tau)⋅sin (\\theta(\\tau))⋅──────(\\phi(\\tau)) + 2⋅r (\\tau)⋅sin(\\theta(\\tau))\n",
       "⎢                                 2                                           \n",
       "⎣                            d\\tau                                            \n",
       "\n",
       "           d                                                                  \n",
       "r(\\tau))⋅─────(t(\\tau))                    2                                  \n",
       "         d\\tau            ⎛  2⋅M      ⎞   d                                   \n",
       "─────────────────────── + ⎜─────── - 1⎟⋅──────(t(\\tau))                       \n",
       "    2                     ⎝r(\\tau)    ⎠      2                                \n",
       "   r (\\tau)                             d\\tau                                 \n",
       "                                                                              \n",
       "                                                                              \n",
       "                                                                              \n",
       "                                                                              \n",
       "                                           2                                2 \n",
       "        2               ⎛  d              ⎞            ⎛  d                ⎞  \n",
       "tau)⋅sin (\\theta(\\tau))⋅⎜─────(\\phi(\\tau))⎟  - r(\\tau)⋅⎜─────(\\theta(\\tau))⎟  \n",
       "                        ⎝d\\tau            ⎠            ⎝d\\tau              ⎠  \n",
       "                                                                              \n",
       "                                                                              \n",
       "                                                                              \n",
       "                                                                              \n",
       "              2               2                                               \n",
       "             ⎞     2         d                                d               \n",
       "─(\\phi(\\tau))⎟  + r (\\tau)⋅──────(\\theta(\\tau)) + 2⋅r(\\tau)⋅─────(\\theta(\\tau)\n",
       "u            ⎠                  2                           d\\tau             \n",
       "                           d\\tau                                              \n",
       "                                                                              \n",
       "                                                                              \n",
       "                     d                 d                                2     \n",
       "⋅cos(\\theta(\\tau))⋅─────(\\phi(\\tau))⋅─────(\\theta(\\tau)) + 2⋅r(\\tau)⋅sin (\\the\n",
       "                   d\\tau             d\\tau                                    \n",
       "                                                                              \n",
       "\n",
       "                                          ⎤\n",
       "                                          ⎥\n",
       "                                          ⎥\n",
       "                                          ⎥\n",
       "                                          ⎥\n",
       "                                          ⎥\n",
       "                                          ⎥\n",
       "     2                                    ⎥\n",
       "    d                                     ⎥\n",
       "  ──────(r(\\tau))                         ⎥\n",
       "       2                                  ⎥\n",
       "  d\\tau                                   ⎥\n",
       "+ ───────────────                         ⎥\n",
       "       2⋅M                                ⎥\n",
       "   - ─────── + 1                          ⎥\n",
       "     r(\\tau)                              ⎥\n",
       "                                          ⎥\n",
       "                                          ⎥\n",
       "                                          ⎥\n",
       "    d                                     ⎥\n",
       ")⋅─────(r(\\tau))                          ⎥\n",
       "  d\\tau                                   ⎥\n",
       "                                          ⎥\n",
       "                                          ⎥\n",
       "                                          ⎥\n",
       "            d                 d           ⎥\n",
       "ta(\\tau))⋅─────(\\phi(\\tau))⋅─────(r(\\tau))⎥\n",
       "          d\\tau             d\\tau         ⎥\n",
       "                                          ⎦"
      ]
     },
     "execution_count": 13,
     "metadata": {},
     "output_type": "execute_result"
    }
   ],
   "source": [
    "tau = Symbol('\\\\tau')\n",
    "w = Geodesic('w', g, tau)\n",
    "w(All).transpose()"
   ]
  },
  {
   "cell_type": "markdown",
   "metadata": {},
   "source": [
    "Finally, <i> gravipy </i> provides help functions for all classes/subclasses, including at least one example. "
   ]
  },
  {
   "cell_type": "code",
   "execution_count": 12,
   "metadata": {},
   "outputs": [
    {
     "name": "stdout",
     "output_type": "stream",
     "text": [
      "Help on class Riemann in module gravipy.tensorial:\n",
      "\n",
      "class Riemann(Tensor)\n",
      " |  Represents a class of Riemann Tensors.\n",
      " |  \n",
      " |  Parameters\n",
      " |  ==========\n",
      " |  \n",
      " |  symbol : python string - name of the Riemann Tensor\n",
      " |  metric : GraviPy MtricTensor object\n",
      " |  \n",
      " |  Examples\n",
      " |  ========\n",
      " |  \n",
      " |  Define and calculate some components of the Riemann Curvature Tensor\n",
      " |  for the Schwarzschild Metric:\n",
      " |  \n",
      " |  >>> from gravipy import *\n",
      " |  >>> t, r, theta, phi = symbols('t, r, \\\\theta, \\phi')\n",
      " |  >>> chi = Coordinates('\\chi', [t, r, theta, phi])\n",
      " |  >>> M = Symbol('M')\n",
      " |  >>> Metric = diag(-(1 - 2 * M / r), 1 / (1 - 2 * M / r), r ** 2,\n",
      " |  ...                  r ** 2 * sin(theta) ** 2)\n",
      " |  >>> g = MetricTensor('g', chi, Metric)\n",
      " |  >>> Rm = Riemann('Rm', g) # doctest: +IGNORE_EXCEPTION_DETAIL\n",
      " |  Traceback (most recent call last):\n",
      " |  GraviPyError: 'Christoffel object for metric g is required'\n",
      " |  >>> Ga = Christoffel('Ga', g)\n",
      " |  >>> Rm = Riemann('Rm', g)\n",
      " |  >>> Rm(1, -3, -1, 3)\n",
      " |  M*(-2*M + r)/(r**3*(2*M - r))\n",
      " |  >>> Rm(1, All, 1, All)\n",
      " |  Matrix([\n",
      " |  [0,         0,                 0,                                0],\n",
      " |  [0, -2*M/r**3,                 0,                                0],\n",
      " |  [0,         0, M*(-2*M + r)/r**2,                                0],\n",
      " |  [0,         0,                 0, M*(-2*M + r)*sin(\\theta)**2/r**2]])\n",
      " |  \n",
      " |  Several ways that one can contract the Riemann Tensor:\n",
      " |  - by manual creation of SymPy Matrix object\n",
      " |  >>> Matrix(4, 4, lambda i, j: sum(Rm(-k, i+1, k, j+1)\n",
      " |  ...                                  for k in range(1,5)).simplify())\n",
      " |  Matrix([\n",
      " |  [0, 0, 0, 0],\n",
      " |  [0, 0, 0, 0],\n",
      " |  [0, 0, 0, 0],\n",
      " |  [0, 0, 0, 0]])\n",
      " |  \n",
      " |  - using sum or reduce and GraviPy Matrix creation procedure\n",
      " |  >>> cRm = sum([Rm(-i, All, i, All) for i in range(1, 5)], zeros(4))\n",
      " |  >>> cRm = reduce(Matrix.add, [Rm(-i, All, i, All) for i in range(1, 5)])\n",
      " |  >>> cRm.simplify()\n",
      " |  >>> cRm\n",
      " |  Matrix([\n",
      " |  [0, 0, 0, 0],\n",
      " |  [0, 0, 0, 0],\n",
      " |  [0, 0, 0, 0],\n",
      " |  [0, 0, 0, 0]])\n",
      " |  \n",
      " |  - by creation of a new Tensor object\n",
      " |  >>> cRm = Tensor('cRm', 2, g)\n",
      " |  >>> def cov_component(idxs):\n",
      " |  ...        return sum(Rm(-i, idxs[0], i, idxs[1])\n",
      " |  ...                   for i in range(1, 5)).simplify()\n",
      " |  >>> cRm._compute_covariant_component = cov_component\n",
      " |  >>> cRm(All, All)\n",
      " |  Matrix([\n",
      " |  [0, 0, 0, 0],\n",
      " |  [0, 0, 0, 0],\n",
      " |  [0, 0, 0, 0],\n",
      " |  [0, 0, 0, 0]])\n",
      " |  \n",
      " |  Method resolution order:\n",
      " |      Riemann\n",
      " |      Tensor\n",
      " |      GeneralTensor\n",
      " |      __builtin__.object\n",
      " |  \n",
      " |  Methods defined here:\n",
      " |  \n",
      " |  __init__(self, symbol, metric, *args, **kwargs)\n",
      " |  \n",
      " |  ----------------------------------------------------------------------\n",
      " |  Data and other attributes inherited from Tensor:\n",
      " |  \n",
      " |  TensorObjects = [<gravipy.tensorial.Christoffel object>, <gravipy.tens...\n",
      " |  \n",
      " |  ----------------------------------------------------------------------\n",
      " |  Methods inherited from GeneralTensor:\n",
      " |  \n",
      " |  __call__(self, *idxs)\n",
      " |  \n",
      " |  covariantD(self, *idxs)\n",
      " |  \n",
      " |  partialD(self, *idxs)\n",
      " |  \n",
      " |  ----------------------------------------------------------------------\n",
      " |  Static methods inherited from GeneralTensor:\n",
      " |  \n",
      " |  get_nmatrixel(M, idxs)\n",
      " |  \n",
      " |  ----------------------------------------------------------------------\n",
      " |  Data descriptors inherited from GeneralTensor:\n",
      " |  \n",
      " |  __dict__\n",
      " |      dictionary for instance variables (if defined)\n",
      " |  \n",
      " |  __weakref__\n",
      " |      list of weak references to the object (if defined)\n",
      " |  \n",
      " |  ----------------------------------------------------------------------\n",
      " |  Data and other attributes inherited from GeneralTensor:\n",
      " |  \n",
      " |  GeneralTensorObjects = [<gravipy.tensorial.Coordinates object>, <gravi...\n",
      "\n"
     ]
    }
   ],
   "source": [
    "help(Riemann)"
   ]
  },
  {
   "cell_type": "markdown",
   "metadata": {},
   "source": [
    "This brief introduction is based on <a href=\"https://arxiv.org/abs/1703.09738\">Birkandan et al., 2018</a> and the integrated tutorial, which is downloadable <a href=\"https://pypi.org/project/GraviPy/\">here</a>. For further use of gravipy (i.e. with Kerr metric), possibly in combination with SageMath, I refer to the paper mentioned above. "
   ]
  }
 ],
 "metadata": {
  "celltoolbar": "Edit Metadata",
  "kernelspec": {
   "display_name": "Python 2",
   "language": "python",
   "name": "python2"
  },
  "language_info": {
   "codemirror_mode": {
    "name": "ipython",
    "version": 2
   },
   "file_extension": ".py",
   "mimetype": "text/x-python",
   "name": "python",
   "nbconvert_exporter": "python",
   "pygments_lexer": "ipython2",
   "version": "2.7.15"
  }
 },
 "nbformat": 4,
 "nbformat_minor": 2
}
